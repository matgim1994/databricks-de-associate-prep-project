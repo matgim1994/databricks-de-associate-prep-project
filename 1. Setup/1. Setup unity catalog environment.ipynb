{
 "cells": [
  {
   "cell_type": "markdown",
   "metadata": {
    "application/vnd.databricks.v1+cell": {
     "cellMetadata": {},
     "inputWidgets": {},
     "nuid": "cb8aa2c8-bddf-41ea-9c59-1f34575ce650",
     "showTitle": false,
     "tableResultSettingsMap": {},
     "title": ""
    }
   },
   "source": [
    "###1. Create external location to access delta lake"
   ]
  },
  {
   "cell_type": "code",
   "execution_count": 0,
   "metadata": {
    "application/vnd.databricks.v1+cell": {
     "cellMetadata": {
      "byteLimit": 2048000,
      "rowLimit": 10000
     },
     "inputWidgets": {},
     "nuid": "45f00e7e-7b6f-4b05-9b9f-687ab6319a03",
     "showTitle": false,
     "tableResultSettingsMap": {},
     "title": ""
    }
   },
   "outputs": [],
   "source": [
    "CREATE EXTERNAL LOCATION IF NOT EXISTS etl_prep_project_dl\n",
    "URL 'abfss://gizmobox1@deacourseextdlabc.dfs.core.windows.net'\n",
    "WITH (STORAGE CREDENTIAL dea_course_ext_sc)\n",
    "COMMENT 'External location for ETL Prep Project for DB DE Associate Certificate Exam';"
   ]
  },
  {
   "cell_type": "markdown",
   "metadata": {
    "application/vnd.databricks.v1+cell": {
     "cellMetadata": {},
     "inputWidgets": {},
     "nuid": "c70a0e96-564c-4c43-8e72-e5e34b7cc6c0",
     "showTitle": false,
     "tableResultSettingsMap": {},
     "title": ""
    }
   },
   "source": [
    "####1.2. Check connetion"
   ]
  },
  {
   "cell_type": "code",
   "execution_count": 0,
   "metadata": {
    "application/vnd.databricks.v1+cell": {
     "cellMetadata": {
      "byteLimit": 2048000,
      "rowLimit": 10000
     },
     "inputWidgets": {},
     "nuid": "f21a8b9d-bc61-43e0-9c7a-25cd9c84a8bb",
     "showTitle": false,
     "tableResultSettingsMap": {
      "0": {
       "dataGridStateBlob": "{\"version\":1,\"tableState\":{\"columnPinning\":{\"left\":[\"#row_number#\"],\"right\":[]},\"columnSizing\":{\"path\":519},\"columnVisibility\":{}},\"settings\":{\"columns\":{}},\"syncTimestamp\":1757847602836}",
       "filterBlob": null,
       "queryPlanFiltersBlob": null,
       "tableResultIndex": 0
      }
     },
     "title": ""
    }
   },
   "outputs": [],
   "source": [
    "%fs ls 'abfss://gizmobox1@deacourseextdlabc.dfs.core.windows.net/landing/operational-data/'"
   ]
  },
  {
   "cell_type": "markdown",
   "metadata": {
    "application/vnd.databricks.v1+cell": {
     "cellMetadata": {
      "byteLimit": 2048000,
      "rowLimit": 10000
     },
     "inputWidgets": {},
     "nuid": "6f207078-e52b-4fe5-a5aa-8d9880ca6fd8",
     "showTitle": false,
     "tableResultSettingsMap": {},
     "title": ""
    }
   },
   "source": [
    "###3. Create catalog"
   ]
  },
  {
   "cell_type": "code",
   "execution_count": 0,
   "metadata": {
    "application/vnd.databricks.v1+cell": {
     "cellMetadata": {
      "byteLimit": 2048000,
      "rowLimit": 10000
     },
     "inputWidgets": {},
     "nuid": "0fd1d69d-e46a-477e-ab1f-80f146453548",
     "showTitle": false,
     "tableResultSettingsMap": {},
     "title": ""
    }
   },
   "outputs": [],
   "source": [
    "CREATE CATALOG gizmobox1\n",
    "      MANAGED LOCATION 'abfss://gizmobox1@deacourseextdlabc.dfs.core.windows.net/'\n",
    "      COMMENT 'Main catalog for ETL Prep Project'"
   ]
  },
  {
   "cell_type": "markdown",
   "metadata": {
    "application/vnd.databricks.v1+cell": {
     "cellMetadata": {},
     "inputWidgets": {},
     "nuid": "3637cbe4-790c-423a-8fe1-1991df5f4318",
     "showTitle": false,
     "tableResultSettingsMap": {},
     "title": ""
    }
   },
   "source": [
    "####3.1. Check catalog list"
   ]
  },
  {
   "cell_type": "code",
   "execution_count": 0,
   "metadata": {
    "application/vnd.databricks.v1+cell": {
     "cellMetadata": {
      "byteLimit": 2048000,
      "rowLimit": 10000
     },
     "inputWidgets": {},
     "nuid": "a8c54548-f769-441c-91ec-f2502f7fcbc1",
     "showTitle": false,
     "tableResultSettingsMap": {},
     "title": ""
    }
   },
   "outputs": [],
   "source": [
    "SHOW CATALOGS;"
   ]
  },
  {
   "cell_type": "markdown",
   "metadata": {
    "application/vnd.databricks.v1+cell": {
     "cellMetadata": {},
     "inputWidgets": {},
     "nuid": "7bbdd7fc-909b-4267-9d73-de60155eb130",
     "showTitle": false,
     "tableResultSettingsMap": {},
     "title": ""
    }
   },
   "source": [
    "###4. Create: landing, bronze, silver and gold schemas"
   ]
  },
  {
   "cell_type": "code",
   "execution_count": 0,
   "metadata": {
    "application/vnd.databricks.v1+cell": {
     "cellMetadata": {
      "byteLimit": 2048000,
      "rowLimit": 10000
     },
     "inputWidgets": {},
     "nuid": "8ea1bfe9-e4c9-4e0e-90f9-d29de65588e6",
     "showTitle": false,
     "tableResultSettingsMap": {},
     "title": ""
    }
   },
   "outputs": [],
   "source": [
    "USE CATALOG gizmobox1;\n",
    "\n",
    "CREATE SCHEMA IF NOT EXISTS landing\n",
    "  MANAGED LOCATION 'abfss://gizmobox1@deacourseextdlabc.dfs.core.windows.net/landing'\n",
    "  COMMENT 'ETL Prep Project landing schema';\n",
    "CREATE SCHEMA IF NOT EXISTS bronze\n",
    "  MANAGED LOCATION 'abfss://gizmobox1@deacourseextdlabc.dfs.core.windows.net/bronze'\n",
    "  COMMENT 'ETL Prep Project bronze schema';\n",
    "CREATE SCHEMA IF NOT EXISTS silver\n",
    "  MANAGED LOCATION 'abfss://gizmobox1@deacourseextdlabc.dfs.core.windows.net/silver'\n",
    "  COMMENT 'ETL Prep Project silver schema';\n",
    "CREATE SCHEMA IF NOT EXISTS gold\n",
    "  MANAGED LOCATION 'abfss://gizmobox1@deacourseextdlabc.dfs.core.windows.net/gold'\n",
    "  COMMENT 'ETL Prep Project gold schema';"
   ]
  },
  {
   "cell_type": "markdown",
   "metadata": {
    "application/vnd.databricks.v1+cell": {
     "cellMetadata": {},
     "inputWidgets": {},
     "nuid": "0c3b5d4d-82b2-4823-baa0-9372301784f3",
     "showTitle": false,
     "tableResultSettingsMap": {},
     "title": ""
    }
   },
   "source": [
    "####4.1. Check schemas"
   ]
  },
  {
   "cell_type": "code",
   "execution_count": 0,
   "metadata": {
    "application/vnd.databricks.v1+cell": {
     "cellMetadata": {
      "byteLimit": 2048000,
      "rowLimit": 10000
     },
     "inputWidgets": {},
     "nuid": "bd9f8ed1-b41a-4487-b3df-96852374d60c",
     "showTitle": false,
     "tableResultSettingsMap": {},
     "title": ""
    }
   },
   "outputs": [],
   "source": [
    "SHOW SCHEMAS;"
   ]
  },
  {
   "cell_type": "markdown",
   "metadata": {
    "application/vnd.databricks.v1+cell": {
     "cellMetadata": {},
     "inputWidgets": {},
     "nuid": "969fb6fc-b621-4117-9800-326b251449b2",
     "showTitle": false,
     "tableResultSettingsMap": {},
     "title": ""
    }
   },
   "source": [
    "###5. Create volume"
   ]
  },
  {
   "cell_type": "code",
   "execution_count": 0,
   "metadata": {
    "application/vnd.databricks.v1+cell": {
     "cellMetadata": {
      "byteLimit": 2048000,
      "rowLimit": 10000
     },
     "inputWidgets": {},
     "nuid": "0abfaadd-7e66-4665-becf-e5ca2486cb28",
     "showTitle": false,
     "tableResultSettingsMap": {},
     "title": ""
    }
   },
   "outputs": [],
   "source": [
    "USE CATALOG gizmobox1;\n",
    "USE SCHEMA landing;\n",
    "\n",
    "CREATE EXTERNAL VOLUME IF NOT EXISTS operational_data\n",
    "    LOCATION 'abfss://gizmobox1@deacourseextdlabc.dfs.core.windows.net/landing/operational-data/'\n",
    "    COMMENT 'ETL Prep Project operational data volume';"
   ]
  },
  {
   "cell_type": "markdown",
   "metadata": {
    "application/vnd.databricks.v1+cell": {
     "cellMetadata": {},
     "inputWidgets": {},
     "nuid": "c2d18948-eef1-4697-b31c-e8d53b2253ed",
     "showTitle": false,
     "tableResultSettingsMap": {},
     "title": ""
    }
   },
   "source": [
    "####5.1. Check volumes"
   ]
  },
  {
   "cell_type": "code",
   "execution_count": 0,
   "metadata": {
    "application/vnd.databricks.v1+cell": {
     "cellMetadata": {
      "byteLimit": 2048000,
      "rowLimit": 10000
     },
     "inputWidgets": {},
     "nuid": "18a3b59e-5f2d-4aba-b7d4-870b086d16a5",
     "showTitle": false,
     "tableResultSettingsMap": {},
     "title": ""
    }
   },
   "outputs": [],
   "source": [
    "SHOW VOLUMES;"
   ]
  }
 ],
 "metadata": {
  "application/vnd.databricks.v1+notebook": {
   "computePreferences": null,
   "dashboards": [],
   "environmentMetadata": {
    "base_environment": "",
    "environment_version": "3"
   },
   "inputWidgetPreferences": null,
   "language": "sql",
   "notebookMetadata": {
    "mostRecentlyExecutedCommandWithImplicitDF": {
     "commandId": 5841199355078413,
     "dataframes": [
      "_sqldf"
     ]
    },
    "pythonIndentUnit": 4
   },
   "notebookName": "1. Setup unity catalog environment",
   "widgets": {}
  },
  "language_info": {
   "name": "sql"
  }
 },
 "nbformat": 4,
 "nbformat_minor": 0
}
