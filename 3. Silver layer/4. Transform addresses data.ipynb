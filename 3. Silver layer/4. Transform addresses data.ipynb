{
 "cells": [
  {
   "cell_type": "markdown",
   "metadata": {
    "application/vnd.databricks.v1+cell": {
     "cellMetadata": {},
     "inputWidgets": {},
     "nuid": "f036c28d-ee44-4559-90d8-5ef9674820fd",
     "showTitle": false,
     "tableResultSettingsMap": {},
     "title": ""
    }
   },
   "source": [
    "###1. Transform addresses data"
   ]
  },
  {
   "cell_type": "markdown",
   "metadata": {
    "application/vnd.databricks.v1+cell": {
     "cellMetadata": {},
     "inputWidgets": {},
     "nuid": "7ac6bd7c-af35-4baa-a544-9a8849885d02",
     "showTitle": false,
     "tableResultSettingsMap": {},
     "title": ""
    }
   },
   "source": [
    "#####1.1 Pivot addresses into separate billing and shipping columns"
   ]
  },
  {
   "cell_type": "code",
   "execution_count": 0,
   "metadata": {
    "application/vnd.databricks.v1+cell": {
     "cellMetadata": {
      "byteLimit": 2048000,
      "rowLimit": 10000
     },
     "inputWidgets": {},
     "nuid": "78630abe-f940-446f-9cef-932f382aa23b",
     "showTitle": false,
     "tableResultSettingsMap": {},
     "title": ""
    }
   },
   "outputs": [],
   "source": [
    "SELECT *\n",
    "FROM (\n",
    "  SELECT\n",
    "    customer_id,\n",
    "    address_type,\n",
    "    address_line_1,\n",
    "    city,\n",
    "    state,\n",
    "    postcode\n",
    "  FROM gizmobox1.bronze.v_addresses)\n",
    "PIVOT(\n",
    "  MAX(address_line_1) as address_line_1,\n",
    "  MAX(city) as city,\n",
    "  MAX(state) as state,\n",
    "  MAX(postcode) as postcode\n",
    "  FOR address_type IN ('shipping', 'billing')\n",
    ");"
   ]
  },
  {
   "cell_type": "markdown",
   "metadata": {
    "application/vnd.databricks.v1+cell": {
     "cellMetadata": {},
     "inputWidgets": {},
     "nuid": "85b8747b-2bfe-49eb-bdb5-c497bb67e2c7",
     "showTitle": false,
     "tableResultSettingsMap": {},
     "title": ""
    }
   },
   "source": [
    "###2. Write data into silver layer table"
   ]
  },
  {
   "cell_type": "code",
   "execution_count": 0,
   "metadata": {
    "application/vnd.databricks.v1+cell": {
     "cellMetadata": {
      "byteLimit": 2048000,
      "rowLimit": 10000
     },
     "inputWidgets": {},
     "nuid": "a8ea7209-9e7f-4eb1-813e-41bc3e8de946",
     "showTitle": false,
     "tableResultSettingsMap": {},
     "title": ""
    }
   },
   "outputs": [],
   "source": [
    "CREATE TABLE gizmobox1.silver.addresses\n",
    "AS\n",
    "SELECT *\n",
    "FROM (\n",
    "  SELECT\n",
    "    customer_id,\n",
    "    address_type,\n",
    "    address_line_1,\n",
    "    city,\n",
    "    state,\n",
    "    postcode\n",
    "  FROM gizmobox1.bronze.v_addresses)\n",
    "PIVOT(\n",
    "  MAX(address_line_1) as address_line_1,\n",
    "  MAX(city) as city,\n",
    "  MAX(state) as state,\n",
    "  MAX(postcode) as postcode\n",
    "  FOR address_type IN ('shipping', 'billing')\n",
    ");"
   ]
  },
  {
   "cell_type": "markdown",
   "metadata": {
    "application/vnd.databricks.v1+cell": {
     "cellMetadata": {},
     "inputWidgets": {},
     "nuid": "12d4e6dd-9b7a-441d-b6dc-a9619c1cd4ec",
     "showTitle": false,
     "tableResultSettingsMap": {},
     "title": ""
    }
   },
   "source": [
    "#####2.1 Check the data in created table"
   ]
  },
  {
   "cell_type": "code",
   "execution_count": 0,
   "metadata": {
    "application/vnd.databricks.v1+cell": {
     "cellMetadata": {
      "byteLimit": 2048000,
      "rowLimit": 10000
     },
     "inputWidgets": {},
     "nuid": "212b0148-2532-40da-9f00-83500dcfd666",
     "showTitle": false,
     "tableResultSettingsMap": {},
     "title": ""
    }
   },
   "outputs": [],
   "source": [
    "SELECT * FROM gizmobox1.silver.addresses;"
   ]
  }
 ],
 "metadata": {
  "application/vnd.databricks.v1+notebook": {
   "computePreferences": null,
   "dashboards": [],
   "environmentMetadata": {
    "base_environment": "",
    "environment_version": "3"
   },
   "inputWidgetPreferences": null,
   "language": "sql",
   "notebookMetadata": {
    "pythonIndentUnit": 4
   },
   "notebookName": "4. Transform addresses data",
   "widgets": {}
  },
  "language_info": {
   "name": "sql"
  }
 },
 "nbformat": 4,
 "nbformat_minor": 0
}
