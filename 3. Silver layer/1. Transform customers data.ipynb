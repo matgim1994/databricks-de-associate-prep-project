{
 "cells": [
  {
   "cell_type": "markdown",
   "metadata": {
    "application/vnd.databricks.v1+cell": {
     "cellMetadata": {},
     "inputWidgets": {},
     "nuid": "53375fee-71d5-4c07-a7c8-7b1f869936ef",
     "showTitle": false,
     "tableResultSettingsMap": {},
     "title": ""
    }
   },
   "source": [
    "###1. Transform customers data\n"
   ]
  },
  {
   "cell_type": "markdown",
   "metadata": {
    "application/vnd.databricks.v1+cell": {
     "cellMetadata": {},
     "inputWidgets": {},
     "nuid": "3be8cb08-d4f7-4948-adbd-662d39acce21",
     "showTitle": false,
     "tableResultSettingsMap": {},
     "title": ""
    }
   },
   "source": [
    "#####1.1 Remove records with null customer_id values"
   ]
  },
  {
   "cell_type": "code",
   "execution_count": 0,
   "metadata": {
    "application/vnd.databricks.v1+cell": {
     "cellMetadata": {
      "byteLimit": 2048000,
      "rowLimit": 10000
     },
     "inputWidgets": {},
     "nuid": "c2f7b329-da2f-4764-b83c-313144f34341",
     "showTitle": false,
     "tableResultSettingsMap": {},
     "title": ""
    }
   },
   "outputs": [],
   "source": [
    "SELECT * FROM gizmobox1.bronze.v_customers WHERE customer_id IS NOT NULL;"
   ]
  },
  {
   "cell_type": "markdown",
   "metadata": {
    "application/vnd.databricks.v1+cell": {
     "cellMetadata": {},
     "inputWidgets": {},
     "nuid": "d4dac985-49b6-4a25-b467-d5fd3675c8c0",
     "showTitle": false,
     "tableResultSettingsMap": {},
     "title": ""
    }
   },
   "source": [
    "#####1.2 Remove exact duplicates"
   ]
  },
  {
   "cell_type": "code",
   "execution_count": 0,
   "metadata": {
    "application/vnd.databricks.v1+cell": {
     "cellMetadata": {
      "byteLimit": 2048000,
      "rowLimit": 10000
     },
     "inputWidgets": {},
     "nuid": "fdee4da4-72c4-48c0-bef6-9d2488c2829f",
     "showTitle": false,
     "tableResultSettingsMap": {},
     "title": ""
    }
   },
   "outputs": [],
   "source": [
    "CREATE TEMPORARY VIEW v_customers_distinct\n",
    "AS\n",
    "SELECT DISTINCT * \n",
    "FROM gizmobox1.bronze.v_customers \n",
    "WHERE customer_id IS NOT NULL;"
   ]
  },
  {
   "cell_type": "markdown",
   "metadata": {
    "application/vnd.databricks.v1+cell": {
     "cellMetadata": {},
     "inputWidgets": {},
     "nuid": "8c9baa10-dc0f-4930-bed2-e47d100d1a6d",
     "showTitle": false,
     "tableResultSettingsMap": {},
     "title": ""
    }
   },
   "source": [
    "#####1.3 Remove duplicates based on created_timestamp, cast columns to correct types"
   ]
  },
  {
   "cell_type": "code",
   "execution_count": 0,
   "metadata": {
    "application/vnd.databricks.v1+cell": {
     "cellMetadata": {
      "byteLimit": 2048000,
      "rowLimit": 10000
     },
     "inputWidgets": {},
     "nuid": "bc26c0b7-b823-4136-a448-8475d7fa908e",
     "showTitle": false,
     "tableResultSettingsMap": {},
     "title": ""
    }
   },
   "outputs": [],
   "source": [
    "WITH CTE_MAX AS \n",
    "  (SELECT customer_id,\n",
    "            MAX(created_timestamp) as created_timestamp\n",
    "   FROM gizmobox1.bronze.v_customers \n",
    "   GROUP BY customer_id)\n",
    "SELECT\n",
    "  CAST(t.created_timestamp AS TIMESTAMP) AS created_timestamp,\n",
    "  t.customer_id,\n",
    "  t.customer_name,\n",
    "  CAST(t.date_of_birth AS DATE) AS date_of_birth,\n",
    "  t.email,\n",
    "  CAST(t.member_since AS DATE) AS member_since,\n",
    "  t.telephone\n",
    "FROM\n",
    "  v_customers_distinct t\n",
    "JOIN\n",
    "  CTE_MAX m\n",
    "  ON t.customer_id = m.customer_id\n",
    "  AND t.created_timestamp = m.created_timestamp;\n"
   ]
  },
  {
   "cell_type": "markdown",
   "metadata": {
    "application/vnd.databricks.v1+cell": {
     "cellMetadata": {},
     "inputWidgets": {},
     "nuid": "f46512de-de4d-46cf-a637-db0348f8efa0",
     "showTitle": false,
     "tableResultSettingsMap": {},
     "title": ""
    }
   },
   "source": [
    "###2. Write data to table in silver layer"
   ]
  },
  {
   "cell_type": "code",
   "execution_count": 0,
   "metadata": {
    "application/vnd.databricks.v1+cell": {
     "cellMetadata": {
      "byteLimit": 2048000,
      "rowLimit": 10000
     },
     "inputWidgets": {},
     "nuid": "682283ab-512a-4091-9de2-8a3fbc63873b",
     "showTitle": false,
     "tableResultSettingsMap": {},
     "title": ""
    }
   },
   "outputs": [],
   "source": [
    "CREATE TABLE gizmobox1.silver.customers\n",
    "AS\n",
    "WITH CTE_MAX AS \n",
    "  (SELECT customer_id,\n",
    "            MAX(created_timestamp) as created_timestamp\n",
    "   FROM gizmobox1.bronze.v_customers \n",
    "   GROUP BY customer_id)\n",
    "SELECT\n",
    "  CAST(t.created_timestamp AS TIMESTAMP) AS created_timestamp,\n",
    "  t.customer_id,\n",
    "  t.customer_name,\n",
    "  CAST(t.date_of_birth AS DATE) AS date_of_birth,\n",
    "  t.email,\n",
    "  CAST(t.member_since AS DATE) AS member_since,\n",
    "  t.telephone\n",
    "FROM\n",
    "  v_customers_distinct t\n",
    "JOIN\n",
    "  CTE_MAX m\n",
    "  ON t.customer_id = m.customer_id\n",
    "  AND t.created_timestamp = m.created_timestamp;\n"
   ]
  },
  {
   "cell_type": "markdown",
   "metadata": {
    "application/vnd.databricks.v1+cell": {
     "cellMetadata": {},
     "inputWidgets": {},
     "nuid": "9beb5813-35eb-45d0-acdb-eb2ac0c75ee2",
     "showTitle": false,
     "tableResultSettingsMap": {},
     "title": ""
    }
   },
   "source": [
    "#####2.1 Check data in created table"
   ]
  },
  {
   "cell_type": "code",
   "execution_count": 0,
   "metadata": {
    "application/vnd.databricks.v1+cell": {
     "cellMetadata": {
      "byteLimit": 2048000,
      "rowLimit": 10000
     },
     "inputWidgets": {},
     "nuid": "964717c6-143e-4686-87aa-7990ac35f829",
     "showTitle": false,
     "tableResultSettingsMap": {},
     "title": ""
    }
   },
   "outputs": [],
   "source": [
    "SELECT * FROM gizmobox1.silver.customers;"
   ]
  }
 ],
 "metadata": {
  "application/vnd.databricks.v1+notebook": {
   "computePreferences": null,
   "dashboards": [],
   "environmentMetadata": {
    "base_environment": "",
    "environment_version": "3"
   },
   "inputWidgetPreferences": null,
   "language": "sql",
   "notebookMetadata": {
    "pythonIndentUnit": 4
   },
   "notebookName": "1. Transform customers data",
   "widgets": {}
  },
  "language_info": {
   "name": "sql"
  }
 },
 "nbformat": 4,
 "nbformat_minor": 0
}
